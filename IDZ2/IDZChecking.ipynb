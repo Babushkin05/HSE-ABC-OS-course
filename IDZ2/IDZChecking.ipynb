{
  "nbformat": 4,
  "nbformat_minor": 0,
  "metadata": {
    "colab": {
      "provenance": []
    },
    "kernelspec": {
      "name": "python3",
      "display_name": "Python 3"
    },
    "language_info": {
      "name": "python"
    }
  },
  "cells": [
    {
      "cell_type": "code",
      "execution_count": 1,
      "metadata": {
        "id": "NQx_blyoYL0q"
      },
      "outputs": [],
      "source": [
        "# imports\n",
        "from sympy import Point, Circle, Line, Ray"
      ]
    },
    {
      "cell_type": "code",
      "source": [
        "# check function\n",
        "def is_four_points_on_circle(a,b,c,d):\n",
        "  circle = Circle(a,b,c)\n",
        "  return len(circle.intersection(d)) == 1"
      ],
      "metadata": {
        "id": "aIeR9oR3YUH2"
      },
      "execution_count": 2,
      "outputs": []
    },
    {
      "cell_type": "code",
      "source": [
        "# test1\n",
        "# bad answer because its unreal to make a unique circle by 3 same points\n",
        "display(is_four_points_on_circle(Point(0,0),Point(0,0),Point(0,0),Point(1,1)))"
      ],
      "metadata": {
        "colab": {
          "base_uri": "https://localhost:8080/",
          "height": 34
        },
        "id": "rZ1mj0J1aIO2",
        "outputId": "b8770577-b504-4b16-93fc-f75681c23cc5"
      },
      "execution_count": 3,
      "outputs": [
        {
          "output_type": "display_data",
          "data": {
            "text/plain": [
              "False"
            ]
          },
          "metadata": {}
        }
      ]
    },
    {
      "cell_type": "code",
      "source": [
        "# test2\n",
        "display(is_four_points_on_circle(Point(0,0),Point(0,1),Point(1,0),Point(1,1)))"
      ],
      "metadata": {
        "colab": {
          "base_uri": "https://localhost:8080/",
          "height": 34
        },
        "id": "8qsWYF01ZfN4",
        "outputId": "007d4734-526a-4b7c-be37-f02833e23e17"
      },
      "execution_count": 4,
      "outputs": [
        {
          "output_type": "display_data",
          "data": {
            "text/plain": [
              "True"
            ]
          },
          "metadata": {}
        }
      ]
    },
    {
      "cell_type": "code",
      "source": [
        "# test3\n",
        "display(is_four_points_on_circle(Point(0,0),Point(1,0),Point(2,1),Point(-1,2)))"
      ],
      "metadata": {
        "colab": {
          "base_uri": "https://localhost:8080/",
          "height": 34
        },
        "id": "82PTJ9CgZq64",
        "outputId": "ae8193de-7938-41c8-d899-cc31213c8721"
      },
      "execution_count": 5,
      "outputs": [
        {
          "output_type": "display_data",
          "data": {
            "text/plain": [
              "True"
            ]
          },
          "metadata": {}
        }
      ]
    },
    {
      "cell_type": "code",
      "source": [
        "# test4\n",
        "display(is_four_points_on_circle(Point(0,0),Point(1,1),Point(-1,1),Point(0,2)))"
      ],
      "metadata": {
        "colab": {
          "base_uri": "https://localhost:8080/",
          "height": 34
        },
        "id": "lShxvVn-Zz3v",
        "outputId": "6fc52ca3-3d40-4708-d11b-1c947ffea874"
      },
      "execution_count": 6,
      "outputs": [
        {
          "output_type": "display_data",
          "data": {
            "text/plain": [
              "True"
            ]
          },
          "metadata": {}
        }
      ]
    },
    {
      "cell_type": "code",
      "source": [
        "# test5\n",
        "display(is_four_points_on_circle(Point(0,0),Point(1,0),Point(0,1),Point(2,2)))"
      ],
      "metadata": {
        "colab": {
          "base_uri": "https://localhost:8080/",
          "height": 34
        },
        "id": "o66uPw4KaFnt",
        "outputId": "502794d7-b2f9-4104-f59a-c8b2b4263214"
      },
      "execution_count": 7,
      "outputs": [
        {
          "output_type": "display_data",
          "data": {
            "text/plain": [
              "False"
            ]
          },
          "metadata": {}
        }
      ]
    },
    {
      "cell_type": "code",
      "source": [
        "# test6\n",
        "display(is_four_points_on_circle(Point(0,0),Point(1,0),Point(2,0),Point(3,3)))"
      ],
      "metadata": {
        "colab": {
          "base_uri": "https://localhost:8080/",
          "height": 34
        },
        "id": "Ln16Gdb_aS3F",
        "outputId": "cb1cc7ff-ca77-4d48-99f3-056e2cf33118"
      },
      "execution_count": 8,
      "outputs": [
        {
          "output_type": "display_data",
          "data": {
            "text/plain": [
              "False"
            ]
          },
          "metadata": {}
        }
      ]
    }
  ]
}